{
 "cells": [
  {
   "cell_type": "code",
   "execution_count": 11,
   "metadata": {},
   "outputs": [],
   "source": [
    "import builtwith\n",
    "import whois\n",
    "import requests\n",
    "from bs4 import BeautifulSoup\n",
    "import pandas as pd\n",
    "import datetime"
   ]
  },
  {
   "cell_type": "markdown",
   "metadata": {},
   "source": [
    "### Página web"
   ]
  },
  {
   "cell_type": "code",
   "execution_count": 4,
   "metadata": {},
   "outputs": [],
   "source": [
    "URL = 'https://tarifaluzhora.es/'"
   ]
  },
  {
   "cell_type": "markdown",
   "metadata": {},
   "source": [
    "### Evaluación inicial"
   ]
  },
  {
   "cell_type": "code",
   "execution_count": 8,
   "metadata": {},
   "outputs": [
    {
     "name": "stdout",
     "output_type": "stream",
     "text": [
      "#\r\n",
      "# robots.txt\r\n",
      "#\r\n",
      "# This file is to prevent the crawling and indexing of certain parts\r\n",
      "# of your site by web crawlers and spiders run by sites like Yahoo!\r\n",
      "# and Google. By telling these \"robots\" where not to go on your site,\r\n",
      "# you save bandwidth and server resources.\r\n",
      "#\r\n",
      "# This file will be ignored unless it is at the root of your host:\r\n",
      "# Used:    http://example.com/robots.txt\r\n",
      "# Ignored: http://example.com/site/robots.txt\r\n",
      "#\r\n",
      "# For more information about the robots.txt standard, see:\r\n",
      "# http://www.robotstxt.org/robotstxt.html\r\n",
      "\r\n",
      "User-agent: *\r\n",
      "# CSS, JS, Images\r\n",
      "Allow: /core/*.css$\r\n",
      "Allow: /core/*.css?\r\n",
      "Allow: /core/*.js$\r\n",
      "Allow: /core/*.js?\r\n",
      "Allow: /core/*.gif\r\n",
      "Allow: /core/*.jpg\r\n",
      "Allow: /core/*.jpeg\r\n",
      "Allow: /core/*.png\r\n",
      "Allow: /core/*.svg\r\n",
      "Allow: /profiles/*.css$\r\n",
      "Allow: /profiles/*.css?\r\n",
      "Allow: /profiles/*.js$\r\n",
      "Allow: /profiles/*.js?\r\n",
      "Allow: /profiles/*.gif\r\n",
      "Allow: /profiles/*.jpg\r\n",
      "Allow: /profiles/*.jpeg\r\n",
      "Allow: /profiles/*.png\r\n",
      "Allow: /profiles/*.svg\r\n",
      "# Directories\r\n",
      "Disallow: /core/\r\n",
      "Disallow: /profiles/\r\n",
      "# Files\r\n",
      "Disallow: /README.txt\r\n",
      "Disallow: /web.config\r\n",
      "# Paths (clean URLs)\r\n",
      "Disallow: /admin/\r\n",
      "Disallow: /comment/reply/\r\n",
      "Disallow: /filter/tips\r\n",
      "Disallow: /node/add/\r\n",
      "Disallow: /search/\r\n",
      "Disallow: /user/register/\r\n",
      "Disallow: /user/password/\r\n",
      "Disallow: /user/login/\r\n",
      "Disallow: /user/logout/\r\n",
      "Disallow: /user/password\r\n",
      "Disallow: /user/login\r\n",
      "# Paths (no clean URLs)\r\n",
      "Disallow: /index.php/admin/\r\n",
      "Disallow: /index.php/comment/reply/\r\n",
      "Disallow: /index.php/filter/tips\r\n",
      "Disallow: /index.php/node/add/\r\n",
      "Disallow: /index.php/search/\r\n",
      "Disallow: /index.php/user/password/\r\n",
      "Disallow: /index.php/user/register/\r\n",
      "Disallow: /index.php/user/login/\r\n",
      "Disallow: /index.php/user/logout/\r\n",
      "Disallow: /node/\r\n",
      "Disallow: /node\r\n",
      "Disallow: /modal-landing/\r\n",
      "Disallow: /formulario-contacto\n",
      "Sitemap: https://tarifaluzhora.es/sitemap.xml\n"
     ]
    }
   ],
   "source": [
    "# Check robots.txt\n",
    "url_robots = URL + '/robots.txt'\n",
    "page = requests.get(url_robots)\n",
    "print(page.text)"
   ]
  },
  {
   "cell_type": "markdown",
   "metadata": {},
   "source": [
    "Observamos en el archivo robots.txt que para cualquier rastreador se habilitan todos los elementos gráficos, código y estilos y lo que se deshabilita son la parte para registro de usuarios y configuraciones de la web."
   ]
  },
  {
   "cell_type": "code",
   "execution_count": 9,
   "metadata": {},
   "outputs": [
    {
     "name": "stdout",
     "output_type": "stream",
     "text": [
      "{'web-servers': ['Nginx'], 'tag-managers': ['Google Tag Manager'], 'web-frameworks': ['Twitter Bootstrap']}\n"
     ]
    }
   ],
   "source": [
    "# Tecnologia del Sitio\n",
    "print(builtwith.builtwith(URL))"
   ]
  },
  {
   "cell_type": "code",
   "execution_count": 10,
   "metadata": {},
   "outputs": [
    {
     "name": "stdout",
     "output_type": "stream",
     "text": [
      "{\n",
      "  \"domain_name\": null,\n",
      "  \"registrar\": null,\n",
      "  \"whois_server\": null,\n",
      "  \"referral_url\": null,\n",
      "  \"updated_date\": null,\n",
      "  \"creation_date\": null,\n",
      "  \"expiration_date\": null,\n",
      "  \"name_servers\": null,\n",
      "  \"status\": null,\n",
      "  \"emails\": null,\n",
      "  \"dnssec\": null,\n",
      "  \"name\": null,\n",
      "  \"org\": null,\n",
      "  \"address\": null,\n",
      "  \"city\": null,\n",
      "  \"state\": null,\n",
      "  \"zipcode\": null,\n",
      "  \"country\": null\n",
      "}\n"
     ]
    }
   ],
   "source": [
    "# Propietario del Sitio\n",
    "print(whois.whois(URL))"
   ]
  },
  {
   "cell_type": "markdown",
   "metadata": {},
   "source": [
    "### Scraping por fecha"
   ]
  },
  {
   "cell_type": "code",
   "execution_count": 26,
   "metadata": {},
   "outputs": [],
   "source": [
    "def scrap_data(tipo_tarifa,d,m,y):\n",
    "    \n",
    "    url = 'https://tarifaluzhora.es/?tarifa=' + tipo_tarifa + '&fecha=' + d + '%2F' + m + '%2F' + y\n",
    "\n",
    "    # Obtenemos página\n",
    "    raw_html = requests.get(url).text\n",
    "\n",
    "    # La parseamos\n",
    "    data = BeautifulSoup(raw_html, 'html.parser')\n",
    "    \n",
    "    #for i in range (50):\n",
    "      #print(i+1,\":\", data.select('span')[i])\n",
    "    \n",
    "    # Generamos dataframe mientras buscamos datos y los limpiamos\n",
    "    df = pd.DataFrame()\n",
    "\n",
    "    df['Fecha'] = [data.select(\"span\")[6].string]\n",
    "    df['Franja más cara'] = [data.select(\"span\")[9].string]\n",
    "    df['Franja más barata'] = [data.select(\"span\")[7].string]\n",
    "\n",
    "    tags_hora=data.find_all(itemprop=\"description\")    \n",
    "    tags_precio=data.find_all(itemprop=\"price\")\n",
    "\n",
    "    a=zip(tags_hora, tags_precio)\n",
    "\n",
    "    for i,j in a:\n",
    "        df[i.string] = [j.string.replace(' €/kWh','')]\n",
    "    \n",
    "    return df\n",
    "\n",
    "# TODAY\n",
    "#today = datetime.datetime.now()\n",
    "#day = today.strftime('%d') \n",
    "#month= today.strftime('%m')\n",
    "#year = str(today.year)\n",
    "\n",
    "# Tarifas: normal, discriminacion (discriminacion horaria), coche_electrico (vehiculos electricos)\n",
    "tarifa = 'normal'\n",
    "\n",
    "dataset = scrap_data(tarifa, '05', '01', '2021')"
   ]
  },
  {
   "cell_type": "code",
   "execution_count": 27,
   "metadata": {},
   "outputs": [
    {
     "data": {
      "text/html": [
       "<div>\n",
       "<style scoped>\n",
       "    .dataframe tbody tr th:only-of-type {\n",
       "        vertical-align: middle;\n",
       "    }\n",
       "\n",
       "    .dataframe tbody tr th {\n",
       "        vertical-align: top;\n",
       "    }\n",
       "\n",
       "    .dataframe thead th {\n",
       "        text-align: right;\n",
       "    }\n",
       "</style>\n",
       "<table border=\"1\" class=\"dataframe\">\n",
       "  <thead>\n",
       "    <tr style=\"text-align: right;\">\n",
       "      <th></th>\n",
       "      <th>Fecha</th>\n",
       "      <th>Franja más cara</th>\n",
       "      <th>Franja más barata</th>\n",
       "      <th>00h - 01h:</th>\n",
       "      <th>01h - 02h:</th>\n",
       "      <th>02h - 03h:</th>\n",
       "      <th>03h - 04h:</th>\n",
       "      <th>04h - 05h:</th>\n",
       "      <th>05h - 06h:</th>\n",
       "      <th>06h - 07h:</th>\n",
       "      <th>...</th>\n",
       "      <th>14h - 15h:</th>\n",
       "      <th>15h - 16h:</th>\n",
       "      <th>16h - 17h:</th>\n",
       "      <th>17h - 18h:</th>\n",
       "      <th>18h - 19h:</th>\n",
       "      <th>19h - 20h:</th>\n",
       "      <th>20h - 21h:</th>\n",
       "      <th>21h - 22h:</th>\n",
       "      <th>22h - 23h:</th>\n",
       "      <th>23h - 24h:</th>\n",
       "    </tr>\n",
       "  </thead>\n",
       "  <tbody>\n",
       "    <tr>\n",
       "      <th>0</th>\n",
       "      <td>05 de 01 de 2021</td>\n",
       "      <td>18h - 19h</td>\n",
       "      <td>04h - 05h</td>\n",
       "      <td>0.13822</td>\n",
       "      <td>0.12873</td>\n",
       "      <td>0.12408</td>\n",
       "      <td>0.12325</td>\n",
       "      <td>0.12275</td>\n",
       "      <td>0.12322</td>\n",
       "      <td>0.12962</td>\n",
       "      <td>...</td>\n",
       "      <td>0.1345</td>\n",
       "      <td>0.13319</td>\n",
       "      <td>0.13516</td>\n",
       "      <td>0.1379</td>\n",
       "      <td>0.14805</td>\n",
       "      <td>0.14761</td>\n",
       "      <td>0.14328</td>\n",
       "      <td>0.14324</td>\n",
       "      <td>0.14238</td>\n",
       "      <td>0.13956</td>\n",
       "    </tr>\n",
       "  </tbody>\n",
       "</table>\n",
       "<p>1 rows × 27 columns</p>\n",
       "</div>"
      ],
      "text/plain": [
       "              Fecha Franja más cara Franja más barata 00h - 01h: 01h - 02h:  \\\n",
       "0  05 de 01 de 2021       18h - 19h         04h - 05h    0.13822    0.12873   \n",
       "\n",
       "  02h - 03h: 03h - 04h: 04h - 05h: 05h - 06h: 06h - 07h:  ... 14h - 15h:  \\\n",
       "0    0.12408    0.12325    0.12275    0.12322    0.12962  ...     0.1345   \n",
       "\n",
       "  15h - 16h: 16h - 17h: 17h - 18h: 18h - 19h: 19h - 20h: 20h - 21h:  \\\n",
       "0    0.13319    0.13516     0.1379    0.14805    0.14761    0.14328   \n",
       "\n",
       "  21h - 22h: 22h - 23h: 23h - 24h:  \n",
       "0    0.14324    0.14238    0.13956  \n",
       "\n",
       "[1 rows x 27 columns]"
      ]
     },
     "execution_count": 27,
     "metadata": {},
     "output_type": "execute_result"
    }
   ],
   "source": [
    "dataset"
   ]
  },
  {
   "cell_type": "code",
   "execution_count": null,
   "metadata": {},
   "outputs": [],
   "source": []
  }
 ],
 "metadata": {
  "kernelspec": {
   "display_name": "Python 3",
   "language": "python",
   "name": "python3"
  },
  "language_info": {
   "codemirror_mode": {
    "name": "ipython",
    "version": 3
   },
   "file_extension": ".py",
   "mimetype": "text/x-python",
   "name": "python",
   "nbconvert_exporter": "python",
   "pygments_lexer": "ipython3",
   "version": "3.8.3"
  }
 },
 "nbformat": 4,
 "nbformat_minor": 4
}
