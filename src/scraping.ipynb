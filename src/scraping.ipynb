{
 "cells": [
  {
   "cell_type": "code",
   "execution_count": 1,
   "metadata": {},
   "outputs": [],
   "source": [
    "import builtwith\n",
    "import whois\n",
    "import requests\n",
    "from bs4 import BeautifulSoup\n",
    "import pandas as pd\n",
    "import datetime"
   ]
  },
  {
   "cell_type": "markdown",
   "metadata": {},
   "source": [
    "### Página web"
   ]
  },
  {
   "cell_type": "code",
   "execution_count": 2,
   "metadata": {},
   "outputs": [],
   "source": [
    "URL = 'https://tarifaluzhora.es/'"
   ]
  },
  {
   "cell_type": "markdown",
   "metadata": {},
   "source": [
    "### Evaluación inicial"
   ]
  },
  {
   "cell_type": "code",
   "execution_count": 3,
   "metadata": {},
   "outputs": [
    {
     "name": "stdout",
     "output_type": "stream",
     "text": [
      "#\r\n",
      "# robots.txt\r\n",
      "#\r\n",
      "# This file is to prevent the crawling and indexing of certain parts\r\n",
      "# of your site by web crawlers and spiders run by sites like Yahoo!\r\n",
      "# and Google. By telling these \"robots\" where not to go on your site,\r\n",
      "# you save bandwidth and server resources.\r\n",
      "#\r\n",
      "# This file will be ignored unless it is at the root of your host:\r\n",
      "# Used:    http://example.com/robots.txt\r\n",
      "# Ignored: http://example.com/site/robots.txt\r\n",
      "#\r\n",
      "# For more information about the robots.txt standard, see:\r\n",
      "# http://www.robotstxt.org/robotstxt.html\r\n",
      "\r\n",
      "User-agent: *\r\n",
      "# CSS, JS, Images\r\n",
      "Allow: /core/*.css$\r\n",
      "Allow: /core/*.css?\r\n",
      "Allow: /core/*.js$\r\n",
      "Allow: /core/*.js?\r\n",
      "Allow: /core/*.gif\r\n",
      "Allow: /core/*.jpg\r\n",
      "Allow: /core/*.jpeg\r\n",
      "Allow: /core/*.png\r\n",
      "Allow: /core/*.svg\r\n",
      "Allow: /profiles/*.css$\r\n",
      "Allow: /profiles/*.css?\r\n",
      "Allow: /profiles/*.js$\r\n",
      "Allow: /profiles/*.js?\r\n",
      "Allow: /profiles/*.gif\r\n",
      "Allow: /profiles/*.jpg\r\n",
      "Allow: /profiles/*.jpeg\r\n",
      "Allow: /profiles/*.png\r\n",
      "Allow: /profiles/*.svg\r\n",
      "# Directories\r\n",
      "Disallow: /core/\r\n",
      "Disallow: /profiles/\r\n",
      "# Files\r\n",
      "Disallow: /README.txt\r\n",
      "Disallow: /web.config\r\n",
      "# Paths (clean URLs)\r\n",
      "Disallow: /admin/\r\n",
      "Disallow: /comment/reply/\r\n",
      "Disallow: /filter/tips\r\n",
      "Disallow: /node/add/\r\n",
      "Disallow: /search/\r\n",
      "Disallow: /user/register/\r\n",
      "Disallow: /user/password/\r\n",
      "Disallow: /user/login/\r\n",
      "Disallow: /user/logout/\r\n",
      "Disallow: /user/password\r\n",
      "Disallow: /user/login\r\n",
      "# Paths (no clean URLs)\r\n",
      "Disallow: /index.php/admin/\r\n",
      "Disallow: /index.php/comment/reply/\r\n",
      "Disallow: /index.php/filter/tips\r\n",
      "Disallow: /index.php/node/add/\r\n",
      "Disallow: /index.php/search/\r\n",
      "Disallow: /index.php/user/password/\r\n",
      "Disallow: /index.php/user/register/\r\n",
      "Disallow: /index.php/user/login/\r\n",
      "Disallow: /index.php/user/logout/\r\n",
      "Disallow: /node/\r\n",
      "Disallow: /node\r\n",
      "Disallow: /modal-landing/\r\n",
      "Disallow: /formulario-contacto\n",
      "Sitemap: https://tarifaluzhora.es/sitemap.xml\n"
     ]
    }
   ],
   "source": [
    "# Check robots.txt\n",
    "url_robots = URL + '/robots.txt'\n",
    "page = requests.get(url_robots)\n",
    "print(page.text)"
   ]
  },
  {
   "cell_type": "markdown",
   "metadata": {},
   "source": [
    "Observamos en el archivo robots.txt que para cualquier rastreador se habilitan todos los elementos gráficos, código y estilos y lo que se deshabilita son la parte para registro de usuarios y configuraciones de la web."
   ]
  },
  {
   "cell_type": "code",
   "execution_count": 4,
   "metadata": {},
   "outputs": [
    {
     "name": "stdout",
     "output_type": "stream",
     "text": [
      "{'web-servers': ['Nginx'], 'tag-managers': ['Google Tag Manager'], 'web-frameworks': ['Twitter Bootstrap']}\n"
     ]
    }
   ],
   "source": [
    "# Tecnologia del Sitio\n",
    "print(builtwith.builtwith(URL))"
   ]
  },
  {
   "cell_type": "code",
   "execution_count": 5,
   "metadata": {},
   "outputs": [
    {
     "name": "stdout",
     "output_type": "stream",
     "text": [
      "{\n",
      "  \"domain_name\": null,\n",
      "  \"registrar\": null,\n",
      "  \"whois_server\": null,\n",
      "  \"referral_url\": null,\n",
      "  \"updated_date\": null,\n",
      "  \"creation_date\": null,\n",
      "  \"expiration_date\": null,\n",
      "  \"name_servers\": null,\n",
      "  \"status\": null,\n",
      "  \"emails\": null,\n",
      "  \"dnssec\": null,\n",
      "  \"name\": null,\n",
      "  \"org\": null,\n",
      "  \"address\": null,\n",
      "  \"city\": null,\n",
      "  \"state\": null,\n",
      "  \"zipcode\": null,\n",
      "  \"country\": null\n",
      "}\n"
     ]
    }
   ],
   "source": [
    "# Propietario del Sitio\n",
    "print(whois.whois(URL))"
   ]
  },
  {
   "cell_type": "markdown",
   "metadata": {},
   "source": [
    "### Scraping por fecha"
   ]
  },
  {
   "cell_type": "code",
   "execution_count": 6,
   "metadata": {},
   "outputs": [],
   "source": [
    "def scrap_data(tipo_tarifa,d,m,y):\n",
    "    \n",
    "    url = 'https://tarifaluzhora.es/?tarifa=' + tipo_tarifa + '&fecha=' + d + '%2F' + m + '%2F' + y\n",
    "\n",
    "    # Obtenemos página\n",
    "    raw_html = requests.get(url).text\n",
    "\n",
    "    # La parseamos\n",
    "    data = BeautifulSoup(raw_html, 'html.parser')\n",
    "    \n",
    "    # Generamos dataframe mientras buscamos datos y los limpiamos\n",
    "    df = pd.DataFrame()\n",
    "\n",
    "    df['Fecha'] = [data.select(\"span\")[6].string]\n",
    "    df['Franja más cara'] = [data.select(\"span\")[9].string]\n",
    "    df['Franja más barata'] = [data.select(\"span\")[7].string]\n",
    "\n",
    "    tags_hora=data.find_all(itemprop=\"description\")    \n",
    "    tags_precio=data.find_all(itemprop=\"price\")\n",
    "\n",
    "    a=zip(tags_hora, tags_precio)\n",
    "\n",
    "    for i,j in a:\n",
    "        df[i.string] = [j.string.replace(' €/kWh','')]\n",
    "    \n",
    "    return df\n",
    "\n",
    "\n",
    "# Tarifas: normal, discriminacion (discriminacion horaria), coche_electrico (vehiculos electricos)\n",
    "tarifa = 'normal'\n",
    "\n",
    "# Creamos dataset\n",
    "dataset = pd.DataFrame()\n",
    "\n",
    "# Obtenemos los datos de Enero\n",
    "for i in range (1,32):\n",
    "    dataset =pd.concat([dataset, scrap_data(tarifa, str(i).zfill(2), '01', '2021')])\n",
    "\n",
    "# Obtenemos los datos de Febrero\n",
    "for i in range (1,29):\n",
    "    dataset =pd.concat([dataset, scrap_data(tarifa, str(i).zfill(2), '02', '2021')])\n",
    "\n",
    "# Obtenemos los datos de Marzo\n",
    "for i in range (1,32):\n",
    "    dataset =pd.concat([dataset, scrap_data(tarifa, str(i).zfill(2), '03', '2021')])"
   ]
  },
  {
   "cell_type": "code",
   "execution_count": 7,
   "metadata": {},
   "outputs": [],
   "source": [
    "# dataset"
   ]
  },
  {
   "cell_type": "code",
   "execution_count": 8,
   "metadata": {},
   "outputs": [],
   "source": [
    "dataset.to_csv(r'tarifa_electrica_EneMar2021.csv',index=False)"
   ]
  },
  {
   "cell_type": "code",
   "execution_count": null,
   "metadata": {},
   "outputs": [],
   "source": []
  }
 ],
 "metadata": {
  "kernelspec": {
   "display_name": "Python 3",
   "language": "python",
   "name": "python3"
  },
  "language_info": {
   "codemirror_mode": {
    "name": "ipython",
    "version": 3
   },
   "file_extension": ".py",
   "mimetype": "text/x-python",
   "name": "python",
   "nbconvert_exporter": "python",
   "pygments_lexer": "ipython3",
   "version": "3.8.3"
  }
 },
 "nbformat": 4,
 "nbformat_minor": 4
}
