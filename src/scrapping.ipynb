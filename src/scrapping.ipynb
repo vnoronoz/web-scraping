import requests
from bs4 import BeautifulSoup
import pandas as pd

URL = 'https://tarifaluzhora.es/'

#Obtenemos página
raw_html = requests.get(URL).text

#La parseamos
data = BeautifulSoup(raw_html, 'html.parser')

#Generamos dataframe mientras buscamos datos y los limpiamos
df = pd.DataFrame()

df['Fecha'] = [data.select("span")[6].string]
df['Franja más cara'] = [data.select("span")[9].string]
df['Franja más barata'] = [data.select("span")[7].string]

tags_hora=data.find_all(itemprop="description")    
tags_precio=data.find_all(itemprop="price")

a=zip(tags_hora, tags_precio)

for i,j in a:
    df[i.string] = [j.string.replace(' €/kWh','')]
   
df
