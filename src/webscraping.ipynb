{
 "cells": [
  {
   "cell_type": "code",
   "execution_count": null,
   "metadata": {},
   "outputs": [],
   "source": [
    "import builtwith\n",
    "import whois\n",
    "import requests\n",
    "from bs4 import BeautifulSoup\n",
    "import pandas as pd\n",
    "import datetime"
   ]
  },
  {
   "cell_type": "markdown",
   "metadata": {},
   "source": [
    "### Página web"
   ]
  },
  {
   "cell_type": "code",
   "execution_count": null,
   "metadata": {},
   "outputs": [],
   "source": [
    "URL = 'https://tarifaluzhora.es/'"
   ]
  },
  {
   "cell_type": "markdown",
   "metadata": {},
   "source": [
    "### Evaluación inicial"
   ]
  },
  {
   "cell_type": "code",
   "execution_count": null,
   "metadata": {},
   "outputs": [],
   "source": [
    "# Check robots.txt\n",
    "url_robots = URL + '/robots.txt'\n",
    "page = requests.get(url_robots)\n",
    "print(page.text)"
   ]
  },
  {
   "cell_type": "markdown",
   "metadata": {},
   "source": [
    "Observamos en el archivo robots.txt que para cualquier rastreador se habilitan todos los elementos gráficos, código y estilos y lo que se deshabilita son la parte para registro de usuarios y configuraciones de la web."
   ]
  },
  {
   "cell_type": "code",
   "execution_count": null,
   "metadata": {},
   "outputs": [],
   "source": [
    "# Tecnologia del Sitio\n",
    "print(builtwith.builtwith(URL))"
   ]
  },
  {
   "cell_type": "code",
   "execution_count": null,
   "metadata": {},
   "outputs": [],
   "source": [
    "# Propietario del Sitio\n",
    "print(whois.whois(URL))"
   ]
  },
  {
   "cell_type": "markdown",
   "metadata": {},
   "source": [
    "### Scraping por fecha"
   ]
  },
  {
   "cell_type": "code",
   "execution_count": null,
   "metadata": {},
   "outputs": [],
   "source": [
    "def scrap_data(tipo_tarifa,d,m,y):\n",
    "    \n",
    "    url = 'https://tarifaluzhora.es/?tarifa=' + tipo_tarifa + '&fecha=' + d + '%2F' + m + '%2F' + y\n",
    "\n",
    "    # Obtenemos página\n",
    "    raw_html = requests.get(url).text\n",
    "\n",
    "    # La parseamos\n",
    "    data = BeautifulSoup(raw_html, 'html.parser')\n",
    "    \n",
    "    # Generamos dataframe mientras buscamos datos y los limpiamos\n",
    "    df = pd.DataFrame()\n",
    "\n",
    "    df['Fecha'] = [data.select(\"span\")[6].string]\n",
    "    df['Franja más cara'] = [data.select(\"span\")[9].string]\n",
    "    df['Franja más barata'] = [data.select(\"span\")[7].string]\n",
    "\n",
    "    tags_hora=data.find_all(itemprop=\"description\")    \n",
    "    tags_precio=data.find_all(itemprop=\"price\")\n",
    "\n",
    "    a=zip(tags_hora, tags_precio)\n",
    "\n",
    "    for i,j in a:\n",
    "        df[i.string] = [j.string.replace(' €/kWh','')]\n",
    "    \n",
    "    return df\n",
    "\n",
    "\n",
    "# Tarifas: normal, discriminacion (discriminacion horaria), coche_electrico (vehiculos electricos)\n",
    "tarifa = 'normal'\n",
    "\n",
    "# Creamos dataset\n",
    "dataset = pd.DataFrame()\n",
    "\n",
    "# Obtenemos los datos de Enero\n",
    "for i in range (1,32):\n",
    "    dataset =pd.concat([dataset, scrap_data(tarifa, str(i).zfill(2), '01', '2021')])\n",
    "\n",
    "# Obtenemos los datos de Febrero\n",
    "for i in range (1,29):\n",
    "    dataset =pd.concat([dataset, scrap_data(tarifa, str(i).zfill(2), '02', '2021')])\n",
    "\n",
    "# Obtenemos los datos de Marzo\n",
    "for i in range (1,32):\n",
    "    dataset =pd.concat([dataset, scrap_data(tarifa, str(i).zfill(2), '03', '2021')])"
   ]
  },
  {
   "cell_type": "code",
   "execution_count": null,
   "metadata": {},
   "outputs": [],
   "source": [
    "# dataset"
   ]
  },
  {
   "cell_type": "code",
   "execution_count": null,
   "metadata": {},
   "outputs": [],
   "source": [
    "dataset.to_csv(r'tarifa_electrica_EneMar2021.csv',index=False)"
   ]
  },
  {
   "cell_type": "code",
   "execution_count": null,
   "metadata": {},
   "outputs": [],
   "source": []
  }
 ],
 "metadata": {
  "kernelspec": {
   "display_name": "Python 3",
   "language": "python",
   "name": "python3"
  },
  "language_info": {
   "codemirror_mode": {
    "name": "ipython",
    "version": 3
   },
   "file_extension": ".py",
   "mimetype": "text/x-python",
   "name": "python",
   "nbconvert_exporter": "python",
   "pygments_lexer": "ipython3",
   "version": "3.8.3"
  }
 },
 "nbformat": 4,
 "nbformat_minor": 4
}
